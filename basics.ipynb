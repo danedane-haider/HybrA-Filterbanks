{
 "cells": [
  {
   "cell_type": "code",
   "execution_count": 1,
   "metadata": {},
   "outputs": [],
   "source": [
    "import soundfile\n",
    "import matplotlib.pyplot as plt\n",
    "import torch\n",
    "import numpy as np\n",
    "from torch.nn import functional as F\n",
    "\n",
    "from hybra.utils import calculate_condition_number, fir_tightener3000, fir_tightener4000, random_filterbank"
   ]
  },
  {
   "cell_type": "code",
   "execution_count": null,
   "metadata": {},
   "outputs": [],
   "source": [
    "def fb_analysis(w, D):\n",
    "    N = w.shape[1]\n",
    "    J = w.shape[0]\n",
    "    w = w.flip((1,)).roll(1, 1)\n",
    "    W = torch.cat([w.flip((1,)), torch.narrow(w.flip((1,)), dim=1, start=0, length=N-1)], dim=1)\n",
    "    W = W.unfold(1, N, 1).flip((-1,)).reshape(J*N, N)\n",
    "    return W[::D, :]\n",
    "\n",
    "def frame_bounds(w, D=1):\n",
    "    if D == 1:\n",
    "        w_hat = torch.sum(torch.fft.fft(w, dim=1).abs() ** 2, dim=0)\n",
    "        B = torch.max(w_hat).item()\n",
    "        A = torch.min(w_hat).item()\n",
    "    else:\n",
    "        W = fb_analysis(w, D)\n",
    "        lam = torch.svd(W).S\n",
    "        B = torch.max(lam).item()\n",
    "        A = torch.min(lam).item()\n",
    "    return A, B\n",
    "\n",
    "def kappa_alias(w, D):\n",
    "    w_hat = torch.fft.fft(w, dim=1)\n",
    "    diag = torch.sum(w_hat.abs() ** 2, dim=0)\n",
    "    A = torch.min(diag).item()\n",
    "    B = torch.max(diag).item()\n",
    "    kappa = B/A - 1\n",
    "\n",
    "    if D == 1:\n",
    "        alias = 0\n",
    "    else:\n",
    "        hop = w.shape[1]//D\n",
    "        alias = torch.zeros(w_hat.shape)\n",
    "        for j in range(1,D):\n",
    "            alias += torch.abs(w_hat * torch.conj(torch.roll(w_hat,j*hop,1)))\n",
    "        alias = torch.sum(alias, dim=0)\n",
    "    return kappa, alias # minimize the sum of them\n",
    "\n",
    "def frame_bounds(w, D=1):\n",
    "    if D == 1:\n",
    "        w_hat = torch.sum(torch.fft.fft(w, dim=1).abs() ** 2, dim=0)\n",
    "        B = torch.max(w_hat).item()\n",
    "        A = torch.min(w_hat).item()\n",
    "    else:\n",
    "        W = fb_analysis(w, D)\n",
    "        lam = torch.svd(W).S\n",
    "        B = torch.max(lam**2).item()\n",
    "        A = torch.min(lam**2).item()\n",
    "    return A, B\n",
    "\n",
    "def can_tight(w, D=1):\n",
    "    if D == 1:\n",
    "        w_freqz = torch.fft.fft(w, dim=1)\n",
    "        lp = torch.sum(w_freqz.abs() ** 2, dim=0)\n",
    "        w_freqz_tight = w_freqz * lp ** (-0.5)\n",
    "        w_tight = torch.fft.ifft(w_freqz_tight, dim=1)\n",
    "        return w_tight\n",
    "    else:\n",
    "        W = fb_analysis(w, D)\n",
    "        S = W.T @ W\n",
    "        lam, U = torch.linalg.eig(S)\n",
    "        lam_square = torch.sqrt(lam.real)**(-1)\n",
    "        S_inv_sqrt = (U @ torch.diag(lam_square).to(torch.complex64) @ U.T).to(torch.float32)\n",
    "        return (S_inv_sqrt @ w.T).T"
   ]
  },
  {
   "cell_type": "code",
   "execution_count": 4,
   "metadata": {},
   "outputs": [],
   "source": [
    "def dual_fb(w, D):\n",
    "    W = fb_analysis(w, D)\n",
    "    S_inv = torch.inverse(W.T @ W)\n",
    "    return (S_inv @ w.T).T"
   ]
  },
  {
   "cell_type": "code",
   "execution_count": 76,
   "metadata": {},
   "outputs": [],
   "source": [
    "def fir_tightener3000(w, supp, eps=1.001):\n",
    "    \"\"\"\n",
    "    Iterative tightening procedure with fixed support for a given filterbank \n",
    "    :param w: analysis filterbank\n",
    "    :param supp: desired support of the tight filterbank\n",
    "    :param eps: desired precision for kappa = B/A\n",
    "    :return: approximately tight filterbank\n",
    "    \"\"\"\n",
    "    A, B = frame_bounds(w)\n",
    "    kappa = B / A\n",
    "    w_tight = w.clone()\n",
    "    while kappa > eps:\n",
    "        w_tight = can_tight(w_tight)\n",
    "        w_tight[:, supp:] = 0\n",
    "        A, B = frame_bounds(w_tight)\n",
    "        kappa = B / A\n",
    "    return w_tight"
   ]
  },
  {
   "cell_type": "code",
   "execution_count": 83,
   "metadata": {},
   "outputs": [
    {
     "name": "stdout",
     "output_type": "stream",
     "text": [
      "tensor([[6., 9., 8., 5., 3., 5., 1., 5., 1., 2., 1., 4.]])\n",
      "tensor([[ 2.5848,  0.5262,  0.9115,  0.4724,  3.4762,  0.2061, -0.6786,  0.8113,\n",
      "          1.4794,  0.3062,  0.2859,  0.5871]])\n",
      "tensor([[ 2.5848,  0.5262,  0.9115,  0.4724,  3.4762,  0.2061, -0.6786,  0.8113,\n",
      "          1.4794,  0.3062,  0.2859,  0.5871]])\n"
     ]
    }
   ],
   "source": [
    "N = 12\n",
    "D = 4\n",
    "T = 6\n",
    "J = 4\n",
    "\n",
    "assert N % D == 0\n",
    "\n",
    "x = torch.randint(1, 10, (1, N)).float()\n",
    "\n",
    "w_fir = torch.randint(1, 10, (J, T)).float()\n",
    "w = torch.cat([w_fir, torch.zeros(J, N-T)], dim=1)\n",
    "w = fir_tightener3000(w, T, eps=1.0001).real\n",
    "w_fir = w[:, :T]\n",
    "\n",
    "W = fb_analysis(w, D)\n",
    "#V = fb_synthesis(w, D)\n",
    "\n",
    "# analysis\n",
    "\n",
    "y = (W @ x.T).reshape(J , N//D)\n",
    "y_conv1d = F.conv1d(F.pad(x, (T-1, 0), mode='circular').unsqueeze(1),\n",
    "                    torch.fliplr(w_fir).unsqueeze(1),\n",
    "                    stride=D)\n",
    "y_fft = torch.fft.irfft(torch.fft.rfft(x) * torch.fft.rfft(w))[:,::D]\n",
    "\n",
    "# print(y)\n",
    "# print(y_conv1d)\n",
    "# print(y_fft)\n",
    "\n",
    "# synthesis\n",
    "\n",
    "z = (W.T @ y.reshape(J * N//D,1)).T\n",
    "# D=1\n",
    "# z_conv1d = F.conv_transpose1d(F.pad(y_conv1d, (0, T-1), mode='circular'), torch.fliplr(w_fir).unsqueeze(1), stride=D, padding=T-1)[0]\n",
    "# D=2\n",
    "# z_conv1d = F.conv_transpose1d(F.pad(y_conv1d, (0, T-2), mode='circular'), torch.fliplr(w_fir).unsqueeze(1), stride=D, padding=T-1)[0]\n",
    "# D=3\n",
    "# z_conv1d = F.conv_transpose1d(F.pad(y_conv1d, (0, T-3), mode='circular'), torch.fliplr(w_fir).unsqueeze(1), stride=D, padding=T-1)[0]\n",
    "# D=4\n",
    "# z_conv1d = F.conv_transpose1d(F.pad(y_conv1d, (0, T-4), mode='circular'), torch.fliplr(w_fir).unsqueeze(1), stride=D, padding=T-1)[0]\n",
    "\n",
    "z_conv1d = F.conv_transpose1d(F.pad(y_conv1d, (0, T-4), mode='circular'), torch.fliplr(w_fir).unsqueeze(1), stride=D, padding=T-1)[0]\n",
    "\n",
    "\n",
    "print(x)\n",
    "print(z)\n",
    "print(z_conv1d[:,:N])\n"
   ]
  },
  {
   "cell_type": "code",
   "execution_count": 64,
   "metadata": {},
   "outputs": [
    {
     "name": "stdout",
     "output_type": "stream",
     "text": [
      "2.3871384405489904\n"
     ]
    },
    {
     "data": {
      "text/plain": [
       "<matplotlib.image.AxesImage at 0x1493ecb30>"
      ]
     },
     "execution_count": 64,
     "metadata": {},
     "output_type": "execute_result"
    },
    {
     "data": {
      "image/png": "[encoded data removed]",
      "text/plain": [
       "<Figure size 640x480 with 1 Axes>"
      ]
     },
     "metadata": {},
     "output_type": "display_data"
    }
   ],
   "source": [
    "# frame operator\n",
    "\n",
    "N = 120\n",
    "D = 2\n",
    "T = 60\n",
    "J = 6\n",
    "\n",
    "assert N % D == 0\n",
    "\n",
    "w_fir = torch.randint(-1, 1, (J, T)).float()\n",
    "w = torch.cat([w_fir, torch.zeros(J, N-T)], dim=1)\n",
    "w = fir_tightener3000(w, T, eps=1.0001).real\n",
    "w_fir = w[:, :T]\n",
    "\n",
    "W = fb_analysis(w, D)\n",
    "A, B = frame_bounds(w, D)\n",
    "print(B/A)\n",
    "S = (W.T @ W).to(torch.complex64)\n",
    "# multiply dft matrix before and after the frame operator\n",
    "DFT = torch.fft.fft(torch.eye(N))\n",
    "S_hat = DFT @ S @ DFT.H\n",
    "\n",
    "# plot the structure of the matrix above a certain threshold\n",
    "#threshold = 0.001\n",
    "#S[S.abs() < threshold] = 0\n",
    "plt.imshow(torch.abs(S_hat))"
   ]
  },
  {
   "cell_type": "code",
   "execution_count": 73,
   "metadata": {},
   "outputs": [],
   "source": [
    "w_hat = torch.fft.fft(w, dim=1)\n",
    "diag = torch.sum(w_hat.abs() ** 2, dim=0)\n",
    "A = torch.min(diag).item()\n",
    "B = torch.max(diag).item()\n",
    "kappa = B/A - 1\n",
    "\n",
    "alias = torch.zeros(w_hat.shape)\n",
    "hop = w.shape[1]//D\n",
    "for j in range(1,D):\n",
    "    alias += torch.abs(w_hat * torch.conj(torch.roll(w_hat, j * hop, 1)))\n",
    "alias = torch.sum(alias, dim=0)\n",
    "\n",
    "# minimize loss + beta * (kappa + alias)\n"
   ]
  },
  {
   "cell_type": "code",
   "execution_count": null,
   "metadata": {},
   "outputs": [],
   "source": []
  }
 ],
 "metadata": {
  "kernelspec": {
   "display_name": "hybra",
   "language": "python",
   "name": "python3"
  },
  "language_info": {
   "codemirror_mode": {
    "name": "ipython",
    "version": 3
   },
   "file_extension": ".py",
   "mimetype": "text/x-python",
   "name": "python",
   "nbconvert_exporter": "python",
   "pygments_lexer": "ipython3",
   "version": "3.12.5"
  },
  "orig_nbformat": 4,
  "vscode": {
   "interpreter": {
    "hash": "d6cfca033b86d2590139eb205fb5494bdb705edc492b7d5ef7b09ebd13a72346"
   }
  }
 },
 "nbformat": 4,
 "nbformat_minor": 2
}
